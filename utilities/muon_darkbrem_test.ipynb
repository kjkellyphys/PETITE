{
 "cells": [
  {
   "cell_type": "markdown",
   "metadata": {},
   "source": [
    "# Using the PETITE utilities to generate new integrator maps\n",
    "Authors: Kevin J. Kelly (Texas A&M), Nikita Blinov (U. Victoria), Ryan Plestid (Caltech), Patrick J. Fox (Fermilab), and Pedro A.N. Machado (Fermilab)\n",
    "\n",
    "! Warning: running this can be time consuming !\n",
    "\n",
    "* First we will generate all the Standard Model processes ('Brem', 'PairProd', 'Comp', 'Ann', 'Moller', 'Bhabha') for a range of energies.\n",
    "* Second we will generate integrators for dark Bremsstrahlung for a range of dark vector masses\n",
    "\n"
   ]
  },
  {
   "cell_type": "code",
   "execution_count": 5,
   "metadata": {},
   "outputs": [
    {
     "name": "stdout",
     "output_type": "stream",
     "text": [
      "/Users/kjkelly/Library/CloudStorage/Dropbox/GitHub/PETITE\n"
     ]
    }
   ],
   "source": [
    "# import necessary functions\n",
    "from generate_integrators import *\n",
    "from find_maxes import *\n",
    "import numpy as np\n",
    "import sys, os\n",
    "path = os.getcwd()\n",
    "path = os.path.split(path)[0]\n",
    "print(path)"
   ]
  },
  {
   "cell_type": "code",
   "execution_count": 2,
   "metadata": {},
   "outputs": [],
   "source": [
    "import PETITE.all_processes as ap\n",
    "import vegas as vg"
   ]
  },
  {
   "cell_type": "code",
   "execution_count": 11,
   "metadata": {},
   "outputs": [
    {
     "name": "stdout",
     "output_type": "stream",
     "text": [
      "[[0.015, 0.999744500525], [-12.0, 0.3010299956639812], [-20.0, 0.0]]\n"
     ]
    }
   ],
   "source": [
    "process = \"DarkMuonBrem\"\n",
    "int_option = ap.vegas_integrator_options[process]\n",
    "#diff_xsec = dsigma_moller_dCT_fk\n",
    "diff_xsec = ap.diff_xsection_options[process]\n",
    "Ei = 2.0\n",
    "params = {\"E_inc\":Ei, \"m_lepton\":m_muon, \"mV\":0.030, \"mT\":200.0, 'Z_T':1.0, 'A_T':1.0}\n",
    "\n",
    "if not (\"Eg_min\" in params.keys()):\n",
    "    params[\"Eg_min\"] = 0.001\n",
    "if not (\"Ee_min\" in params.keys()):\n",
    "    params[\"Ee_min\"] = 0.005\n",
    "if not (\"m_lepton\" in params.keys()):\n",
    "    params[\"m_lepton\"] = m_electron\n",
    "\n",
    "ig_r = ap.integration_range(params, process)\n",
    "print(ig_r)\n",
    "\n",
    "integ = vg.Integrator(ig_r)\n",
    "f_integrand = diff_xsec(event_info=params, ndim=1, batch_mode=True)"
   ]
  },
  {
   "cell_type": "code",
   "execution_count": 13,
   "metadata": {},
   "outputs": [
    {
     "data": {
      "text/plain": [
       "array(0.)"
      ]
     },
     "execution_count": 13,
     "metadata": {},
     "output_type": "execute_result"
    }
   ],
   "source": [
    "f_integrand(np.array([0.5, -8, -10.0]))"
   ]
  },
  {
   "cell_type": "code",
   "execution_count": null,
   "metadata": {},
   "outputs": [],
   "source": [
    "integ(f_integrand, **int_option)"
   ]
  },
  {
   "cell_type": "code",
   "execution_count": 7,
   "metadata": {},
   "outputs": [],
   "source": [
    "import pickle as pk\n",
    "dark_xsec_dict = pk.load(open(path+\"/data_test/data/dark_xsec.pkl\", \"rb\"))"
   ]
  },
  {
   "cell_type": "code",
   "execution_count": 19,
   "metadata": {},
   "outputs": [
    {
     "data": {
      "text/plain": [
       "dict_keys(['graphite', 'lead', 'iron', 'aluminum'])"
      ]
     },
     "execution_count": 19,
     "metadata": {},
     "output_type": "execute_result"
    }
   ],
   "source": [
    "dark_xsec_dict[0.100]['DarkBrem'].keys()"
   ]
  },
  {
   "cell_type": "code",
   "execution_count": 26,
   "metadata": {},
   "outputs": [],
   "source": [
    "dbx, dby = np.transpose(dark_xsec_dict[0.100]['DarkBrem']['iron'])\n",
    "dmbx, dmby = np.transpose(dark_xsec_dict[0.100]['DarkMuonBrem']['iron'])"
   ]
  },
  {
   "cell_type": "code",
   "execution_count": 27,
   "metadata": {},
   "outputs": [],
   "source": [
    "from kjkutils import *"
   ]
  },
  {
   "cell_type": "code",
   "execution_count": 28,
   "metadata": {},
   "outputs": [
    {
     "data": {
      "image/png": "[encoded data removed]",
      "text/plain": [
       "<Figure size 640x480 with 1 Axes>"
      ]
     },
     "metadata": {},
     "output_type": "display_data"
    }
   ],
   "source": [
    "plt.plot(dbx, dby)\n",
    "plt.plot(dmbx, dmby)\n",
    "plt.gca().set_xscale('log')\n",
    "plt.gca().set_yscale('log')"
   ]
  }
 ],
 "metadata": {
  "kernelspec": {
   "display_name": "kjkvec",
   "language": "python",
   "name": "python3"
  },
  "language_info": {
   "codemirror_mode": {
    "name": "ipython",
    "version": 3
   },
   "file_extension": ".py",
   "mimetype": "text/x-python",
   "name": "python",
   "nbconvert_exporter": "python",
   "pygments_lexer": "ipython3",
   "version": "3.12.8"
  },
  "orig_nbformat": 4
 },
 "nbformat": 4,
 "nbformat_minor": 2
}
